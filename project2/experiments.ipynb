{
 "cells": [
  {
   "cell_type": "markdown",
   "metadata": {},
   "source": [
    "# Deep Learning 2024 - project 2\n",
    "Kinga Frańczak, 313335\n",
    "\n",
    "Grzegorz Zakrzewski, 313555"
   ]
  },
  {
   "cell_type": "code",
   "execution_count": 1,
   "metadata": {},
   "outputs": [],
   "source": [
    "# tensorflow==2.10.1\n",
    "# pandas==1.5.3\n",
    "# numpy==1.26.4\n",
    "# seaborn==0.13.2\n",
    "# matplotlib==3.8.3\n",
    "# scipy==1.13\n",
    "\n",
    "import collections\n",
    "import os\n",
    "import shutil\n",
    "import warnings\n",
    "\n",
    "import matplotlib.pyplot as plt\n",
    "import numpy as np\n",
    "import pandas as pd\n",
    "import seaborn as sns\n",
    "import tensorflow as tf\n",
    "from scipy.io import wavfile\n",
    "from tensorflow import keras\n",
    "\n",
    "warnings.filterwarnings(\"ignore\")\n",
    "sns.set_theme(style=\"whitegrid\", font_scale=0.9)\n",
    "np.random.seed(0)\n",
    "keras.utils.set_random_seed(0)"
   ]
  },
  {
   "cell_type": "markdown",
   "metadata": {},
   "source": [
    "#### Creating *silence* from *_background_noise_*"
   ]
  },
  {
   "cell_type": "code",
   "execution_count": 2,
   "metadata": {},
   "outputs": [],
   "source": [
    "# BACKGROUND_NOISE_PATH = \"tensorflow-speech-recognition-challenge/train/audio/_background_noise_/\"\n",
    "# SILENCE_PATH = \"tensorflow-speech-recognition-challenge/train/audio/silence/\"\n",
    "# os.makedirs(SILENCE_PATH, exist_ok=True)\n",
    "\n",
    "# for file in os.listdir(BACKGROUND_NOISE_PATH):\n",
    "#     if not file.endswith(\"wav\"):\n",
    "#         continue\n",
    "\n",
    "#     _, samples = wavfile.read(BACKGROUND_NOISE_PATH + file)\n",
    "\n",
    "#     samples = samples[:samples.shape[0] - samples.shape[0] % 200]\n",
    "#     for idx, i in enumerate(range(0, samples.shape[0], 200)):\n",
    "        \n",
    "#         new_file = SILENCE_PATH + file.split(\".\")[0] + f\"_{idx}.wav\"\n",
    "#         wavfile.write(new_file, 16000, samples[i: i + 16000])\n",
    "\n",
    "# shutil.rmtree(BACKGROUND_NOISE_PATH)"
   ]
  },
  {
   "cell_type": "markdown",
   "metadata": {},
   "source": [
    "#### Loading data"
   ]
  },
  {
   "cell_type": "code",
   "execution_count": 3,
   "metadata": {},
   "outputs": [],
   "source": [
    "REPETITIONS = 2  # number of repetitions of each experiment\n",
    "EPOCHS = 2  # number of epochs usually used to train the models\n",
    "\n",
    "CLASSES = [\n",
    "    \"yes\", # \n",
    "    \"no\", # \n",
    "    \"up\", #\n",
    "    \"down\", # \n",
    "    \"left\", #\n",
    "    \"right\", #\n",
    "    \"on\", #\n",
    "    \"off\", #\n",
    "    \"stop\", #\n",
    "    \"go\", #\n",
    "    \"silence\", #\n",
    "    \"bed\",\n",
    "    \"bird\",\n",
    "    \"cat\",\n",
    "    \"dog\",\n",
    "    \"eight\",\n",
    "    \"five\",\n",
    "    \"four\",\n",
    "    \"happy\",\n",
    "    \"house\",\n",
    "    \"marvin\",\n",
    "    \"nine\",\n",
    "    \"one\",\n",
    "    \"seven\", \n",
    "    \"sheila\",\n",
    "    \"six\",\n",
    "    \"three\",\n",
    "    \"tree\",\n",
    "    \"two\",\n",
    "    \"wow\",\n",
    "    \"zero\",\n",
    "]\n",
    "\n",
    "directory_train = \"./tensorflow-speech-recognition-challenge/train/audio\"\n",
    "directory_test = \"./tensorflow-speech-recognition-challenge/test/audio\""
   ]
  },
  {
   "cell_type": "code",
   "execution_count": 4,
   "metadata": {},
   "outputs": [
    {
     "name": "stdout",
     "output_type": "stream",
     "text": [
      "Found 96671 files belonging to 31 classes.\n",
      "Using 77337 files for training.\n",
      "Using 19334 files for validation.\n"
     ]
    }
   ],
   "source": [
    "DS_TRAIN, DS_VALID = keras.utils.audio_dataset_from_directory(\n",
    "    directory_train,\n",
    "    labels=\"inferred\",\n",
    "    class_names=CLASSES,\n",
    "    output_sequence_length=16000,\n",
    "    batch_size=None,\n",
    "    validation_split=0.2,\n",
    "    subset=\"both\",\n",
    "    seed=0,\n",
    ")\n",
    "\n",
    "# dropping the extra axis, because this dataset only contains single channel audio\n",
    "# as in https://www.tensorflow.org/tutorials/audio/simple_audio\n",
    "def squeeze(audio, labels):\n",
    "    audio = tf.squeeze(audio, axis=-1)\n",
    "    return audio, labels\n",
    "\n",
    "DS_TRAIN = DS_TRAIN.map(squeeze, tf.data.AUTOTUNE)\n",
    "DS_VALID = DS_VALID.map(squeeze, tf.data.AUTOTUNE)"
   ]
  },
  {
   "cell_type": "code",
   "execution_count": 5,
   "metadata": {},
   "outputs": [
    {
     "name": "stdout",
     "output_type": "stream",
     "text": [
      "Found 158538 files belonging to 1 classes.\n"
     ]
    }
   ],
   "source": [
    "DS_TEST = keras.utils.audio_dataset_from_directory(\n",
    "    directory_test,\n",
    "    labels=None,\n",
    "    output_sequence_length=16000,\n",
    "    batch_size=None,\n",
    "    seed=0,\n",
    "    shuffle=False\n",
    ")\n",
    "\n",
    "DS_TEST = DS_TEST.map(lambda audio: tf.squeeze(audio, axis=-1), tf.data.AUTOTUNE)"
   ]
  },
  {
   "cell_type": "code",
   "execution_count": 5,
   "metadata": {},
   "outputs": [
    {
     "name": "stdout",
     "output_type": "stream",
     "text": [
      "(16000,)\n",
      "()\n"
     ]
    }
   ],
   "source": [
    "for example_audio, example_label in DS_TRAIN.take(1):  \n",
    "    print(example_audio.shape)\n",
    "    print(example_label.shape)"
   ]
  },
  {
   "cell_type": "code",
   "execution_count": 6,
   "metadata": {},
   "outputs": [
    {
     "data": {
      "image/png": "[encoded data removed]",
      "text/plain": [
       "<Figure size 1200x800 with 9 Axes>"
      ]
     },
     "metadata": {},
     "output_type": "display_data"
    }
   ],
   "source": [
    "# modified code from https://www.tensorflow.org/tutorials/audio/simple_audio#import_the_mini_speech_commands_dataset\n",
    "# sample observations\n",
    "fig, axs = plt.subplots(3, 3, figsize=(12, 8))\n",
    "\n",
    "for i, (example_audio, example_label) in enumerate(DS_TRAIN.take(9)):\n",
    "    ax_idx = (i // 3, i % 3)\n",
    "    axs[ax_idx].plot(example_audio)\n",
    "    axs[ax_idx].set_title(CLASSES[example_label])\n",
    "    axs[ax_idx].set_yticks(np.arange(-1.2, 1.21, 0.4))\n",
    "    axs[ax_idx].set_ylim([-1.2, 1.2])\n",
    "\n",
    "plt.subplots_adjust(wspace=0.3, hspace=0.5)\n",
    "plt.savefig(f\"images/sample_observations.png\", bbox_inches=\"tight\", dpi=300)\n",
    "plt.show()"
   ]
  },
  {
   "cell_type": "code",
   "execution_count": 7,
   "metadata": {},
   "outputs": [],
   "source": [
    "# re-labeling everything to the unknown class except the 10 base classes and the silence class\n",
    "def relabel_map(audio, label):\n",
    "    label = tf.where(label > 11, 11, label)\n",
    "    return audio, label\n",
    "\n",
    "DS_TRAIN = DS_TRAIN.map(relabel_map)\n",
    "DS_VALID = DS_VALID.map(relabel_map)"
   ]
  },
  {
   "cell_type": "markdown",
   "metadata": {},
   "source": [
    "#### Converting waveforms to spectrograms"
   ]
  },
  {
   "cell_type": "code",
   "execution_count": 8,
   "metadata": {},
   "outputs": [],
   "source": [
    "# modified code from https://www.tensorflow.org/tutorials/audio/simple_audio#convert_waveforms_to_spectrograms\n",
    "# frame_length and frame_step were chosen arbitrarily\n",
    "\n",
    "def get_spectrogram(waveform):\n",
    "  spectrogram = tf.signal.stft(waveform, frame_length=240, frame_step=120)\n",
    "  spectrogram = tf.abs(spectrogram)\n",
    "  # spectrogram = spectrogram[..., tf.newaxis]\n",
    "  return spectrogram\n",
    "\n",
    "DS_TRAIN = DS_TRAIN.map(lambda audio, labels: (get_spectrogram(audio), labels), tf.data.AUTOTUNE)\n",
    "DS_VALID = DS_VALID.map(lambda audio, labels: (get_spectrogram(audio), labels), tf.data.AUTOTUNE)\n",
    "# DS_TEST = DS_TEST.map(lambda audio: get_spectrogram(audio, tf.data.AUTOTUNE)"
   ]
  },
  {
   "cell_type": "code",
   "execution_count": 9,
   "metadata": {},
   "outputs": [
    {
     "data": {
      "text/plain": [
       "(TensorSpec(shape=(132, 129), dtype=tf.float32, name=None),\n",
       " TensorSpec(shape=(), dtype=tf.int32, name=None))"
      ]
     },
     "execution_count": 9,
     "metadata": {},
     "output_type": "execute_result"
    }
   ],
   "source": [
    "# we end up with 132 x 129 vector\n",
    "DS_TRAIN.element_spec"
   ]
  },
  {
   "cell_type": "markdown",
   "metadata": {},
   "source": [
    "#### Counting labels"
   ]
  },
  {
   "cell_type": "code",
   "execution_count": 10,
   "metadata": {},
   "outputs": [
    {
     "data": {
      "text/plain": [
       "defaultdict(int,\n",
       "            {10: 25670,\n",
       "             4: 1886,\n",
       "             5: 1907,\n",
       "             11: 32764,\n",
       "             7: 1869,\n",
       "             1: 1898,\n",
       "             3: 1879,\n",
       "             2: 1895,\n",
       "             0: 1870,\n",
       "             6: 1899,\n",
       "             8: 1899,\n",
       "             9: 1901})"
      ]
     },
     "execution_count": 10,
     "metadata": {},
     "output_type": "execute_result"
    }
   ],
   "source": [
    "# counting labels\n",
    "counts = collections.defaultdict(int)\n",
    "for audio, label in DS_TRAIN:\n",
    "    counts[label.numpy()] += 1\n",
    "counts"
   ]
  },
  {
   "cell_type": "code",
   "execution_count": 11,
   "metadata": {},
   "outputs": [
    {
     "data": {
      "text/plain": [
       "defaultdict(int,\n",
       "            {10: 2646,\n",
       "             1: 1898,\n",
       "             8: 1899,\n",
       "             11: 3334,\n",
       "             4: 1886,\n",
       "             6: 1899,\n",
       "             0: 1870,\n",
       "             2: 1895,\n",
       "             3: 1879,\n",
       "             9: 1901,\n",
       "             5: 1907,\n",
       "             7: 1869})"
      ]
     },
     "execution_count": 11,
     "metadata": {},
     "output_type": "execute_result"
    }
   ],
   "source": [
    "# there are significantly more observations of the 'unknown' and 'silence' classes\n",
    "\n",
    "# for setup I - one network for all classes\n",
    "# we will randomly drop 90% of observations from the 'unknown' and 'silence' classes\n",
    "# this is to prevent issues related to class imbalance.\n",
    "\n",
    "def randomly_drop_11th_class(audio, label):\n",
    "    r = tf.random.uniform(shape=[], minval=0, maxval=1, seed=0)\n",
    "    return label < 10 or (label == 10 and r < 0.1) or (label == 11 and r < 0.1)\n",
    "\n",
    "DS_TRAIN_1 = DS_TRAIN.filter(randomly_drop_11th_class)\n",
    "DS_VALID_1 = DS_VALID.filter(randomly_drop_11th_class)\n",
    "\n",
    "counts = collections.defaultdict(int)\n",
    "for audio, label in DS_TRAIN_1:\n",
    "    counts[label.numpy()] += 1\n",
    "counts"
   ]
  },
  {
   "cell_type": "code",
   "execution_count": 12,
   "metadata": {},
   "outputs": [],
   "source": [
    "# for setup II - utilizing one network for special cases and another for the ten base classes\n",
    "# there will be two datasets\n",
    "# the first dataset includes all observations, but classes 0-9 are relabeled as one class\n",
    "# the second dataset contains observations exclusively from the ten base classes\n",
    "\n",
    "def relabel_map(audio, label):\n",
    "    label = tf.where(label < 10, 0, label)\n",
    "    label = tf.where(label == 10, 1, label)\n",
    "    label = tf.where(label == 11, 2, label)\n",
    "    return audio, label\n",
    "\n",
    "DS_TRAIN_2A = DS_TRAIN.map(relabel_map)\n",
    "DS_VALID_2A = DS_VALID.map(relabel_map)\n",
    "\n",
    "DS_TRAIN_2B = DS_TRAIN.filter(lambda audio, label: label < 10)\n",
    "DS_VALID_2B = DS_VALID.filter(lambda audio, label: label < 10)"
   ]
  },
  {
   "cell_type": "code",
   "execution_count": 13,
   "metadata": {},
   "outputs": [
    {
     "data": {
      "text/plain": [
       "defaultdict(int, {1: 25670, 0: 18903, 2: 32764})"
      ]
     },
     "execution_count": 13,
     "metadata": {},
     "output_type": "execute_result"
    }
   ],
   "source": [
    "counts = collections.defaultdict(int)\n",
    "for audio, label in DS_TRAIN_2A:\n",
    "    counts[label.numpy()] += 1\n",
    "counts"
   ]
  },
  {
   "cell_type": "code",
   "execution_count": 14,
   "metadata": {},
   "outputs": [
    {
     "data": {
      "text/plain": [
       "defaultdict(int,\n",
       "            {0: 1870,\n",
       "             8: 1899,\n",
       "             9: 1901,\n",
       "             2: 1895,\n",
       "             6: 1899,\n",
       "             3: 1879,\n",
       "             5: 1907,\n",
       "             1: 1898,\n",
       "             7: 1869,\n",
       "             4: 1886})"
      ]
     },
     "execution_count": 14,
     "metadata": {},
     "output_type": "execute_result"
    }
   ],
   "source": [
    "counts = collections.defaultdict(int)\n",
    "for audio, label in DS_TRAIN_2B:\n",
    "    counts[label.numpy()] += 1\n",
    "counts"
   ]
  },
  {
   "cell_type": "code",
   "execution_count": 15,
   "metadata": {},
   "outputs": [],
   "source": [
    "DS_TRAIN = DS_TRAIN.batch(32, drop_remainder=True).cache().prefetch(tf.data.AUTOTUNE)\n",
    "DS_VALID = DS_VALID.batch(32, drop_remainder=True).cache().prefetch(tf.data.AUTOTUNE)\n",
    "DS_TRAIN_1 = DS_TRAIN_1.batch(32, drop_remainder=True).cache().prefetch(tf.data.AUTOTUNE)\n",
    "DS_VALID_1 = DS_VALID_1.batch(32, drop_remainder=True).cache().prefetch(tf.data.AUTOTUNE)\n",
    "DS_TRAIN_2A = DS_TRAIN_2A.batch(32, drop_remainder=True).cache().prefetch(tf.data.AUTOTUNE)\n",
    "DS_VALID_2A = DS_VALID_2A.batch(32, drop_remainder=True).cache().prefetch(tf.data.AUTOTUNE)\n",
    "DS_TRAIN_2B = DS_TRAIN_2B.batch(32, drop_remainder=True).cache().prefetch(tf.data.AUTOTUNE)\n",
    "DS_VALID_2B = DS_VALID_2B.batch(32, drop_remainder=True).cache().prefetch(tf.data.AUTOTUNE)\n",
    "# DS_TEST = DS_TEST.batch(32, drop_remainder=True).cache().prefetch(tf.data.AUTOTUNE)"
   ]
  },
  {
   "cell_type": "markdown",
   "metadata": {},
   "source": [
    "#### Transformer - encoder"
   ]
  },
  {
   "cell_type": "markdown",
   "metadata": {},
   "source": [
    "![](images/transformer.png)"
   ]
  },
  {
   "cell_type": "code",
   "execution_count": 16,
   "metadata": {},
   "outputs": [],
   "source": [
    "# modified code from https://www.tensorflow.org/text/tutorials/transformer#define_the_components\n",
    "\n",
    "class SelfAttention(tf.keras.layers.Layer):\n",
    "    def __init__(self, **kwargs):\n",
    "        super().__init__()\n",
    "        self.mha = tf.keras.layers.MultiHeadAttention(**kwargs)\n",
    "        self.layernorm = tf.keras.layers.LayerNormalization()\n",
    "        self.add = tf.keras.layers.Add()\n",
    "\n",
    "    def call(self, x):\n",
    "        attn_output = self.mha(query=x, value=x, key=x)\n",
    "        x = self.add([x, attn_output])\n",
    "        x = self.layernorm(x)\n",
    "        return x\n",
    "    \n",
    "\n",
    "class FeedForward(tf.keras.layers.Layer):\n",
    "    def __init__(self, d_model, dff, dropout_rate=0.1):\n",
    "        super().__init__()\n",
    "        self.seq = tf.keras.Sequential(\n",
    "            [\n",
    "                tf.keras.layers.Dense(dff, activation=\"relu\"),\n",
    "                tf.keras.layers.Dense(d_model),\n",
    "                tf.keras.layers.Dropout(dropout_rate),\n",
    "            ]\n",
    "        )\n",
    "        self.add = tf.keras.layers.Add()\n",
    "        self.layer_norm = tf.keras.layers.LayerNormalization()\n",
    "\n",
    "    def call(self, x):\n",
    "        x = self.add([x, self.seq(x)])\n",
    "        x = self.layer_norm(x)\n",
    "        return x\n",
    "\n",
    "\n",
    "class EncoderLayer(tf.keras.layers.Layer):\n",
    "    def __init__(self, *, d_model, num_heads, dff, dropout_rate=0.1):\n",
    "        super().__init__()\n",
    "        self.self_attention = SelfAttention(\n",
    "            num_heads=num_heads,\n",
    "            key_dim=d_model,\n",
    "            dropout=dropout_rate,\n",
    "        )\n",
    "        self.ffn = FeedForward(d_model, dff)\n",
    "\n",
    "    def call(self, x):\n",
    "        x = self.self_attention(x)\n",
    "        x = self.ffn(x)\n",
    "        return x\n",
    "\n",
    "\n",
    "class Encoder(tf.keras.layers.Layer):\n",
    "    def __init__(self, *, num_layers, d_model, num_heads, dff, dropout_rate=0.1):\n",
    "        super().__init__()\n",
    "        self.d_model = d_model\n",
    "        self.num_layers = num_layers\n",
    "        self.enc_layers = [\n",
    "            EncoderLayer(\n",
    "                d_model=d_model, num_heads=num_heads, dff=dff, dropout_rate=dropout_rate\n",
    "            )\n",
    "            for _ in range(num_layers)\n",
    "        ]\n",
    "        self.dropout = tf.keras.layers.Dropout(dropout_rate)\n",
    "\n",
    "    def call(self, x):\n",
    "        x = self.dropout(x)\n",
    "        for i in range(self.num_layers):\n",
    "            x = self.enc_layers[i](x)\n",
    "        return x"
   ]
  },
  {
   "cell_type": "markdown",
   "metadata": {},
   "source": [
    "#### Additional functions"
   ]
  },
  {
   "cell_type": "code",
   "execution_count": 17,
   "metadata": {},
   "outputs": [],
   "source": [
    "# function that fits the model and returns the results\n",
    "\n",
    "def fit_model(\n",
    "    get_model,\n",
    "    name=\"\",\n",
    "    callbacks=[],\n",
    "    optimizer=\"adam\",\n",
    "    ds_train=DS_TRAIN,\n",
    "    ds_valid=DS_VALID,\n",
    "    epochs=EPOCHS,\n",
    "    repetitions=REPETITIONS,\n",
    "):\n",
    "    results = []\n",
    "    models = []\n",
    "    for i in range(repetitions):\n",
    "        model = get_model()\n",
    "        model.compile(\n",
    "            optimizer=optimizer,\n",
    "            loss=\"sparse_categorical_crossentropy\",\n",
    "            metrics=[\"accuracy\"],\n",
    "        )\n",
    "        history = model.fit(ds_train, validation_data=ds_valid, epochs=epochs, callbacks=callbacks)\n",
    "        frame = pd.DataFrame(history.history)\n",
    "        frame[\"Name\"] = name\n",
    "        frame[\"Repetition\"] = i\n",
    "        frame = frame.reset_index().rename(columns={\"index\": \"Epoch\"})\n",
    "        results.append(frame)\n",
    "        models.append(model)\n",
    "    return pd.concat(results), models"
   ]
  },
  {
   "cell_type": "code",
   "execution_count": 18,
   "metadata": {},
   "outputs": [],
   "source": [
    "# function that returns the lowest loss and the highest accuracy averaged over repetitions\n",
    "\n",
    "def summary(results):\n",
    "    tmp = (\n",
    "        results.groupby([\"Name\", \"Repetition\"])\n",
    "        .agg({\"loss\": \"min\", \"accuracy\": \"max\", \"val_loss\": \"min\", \"val_accuracy\": \"max\"})\n",
    "        .groupby(\"Name\", sort=False)\n",
    "    )\n",
    "    mean = tmp.mean().round(3).applymap(lambda x: f\"{x:.3f}\")\n",
    "    std = tmp.std().round(3).applymap(lambda x: f\" ({x:.3f})\")\n",
    "    summary = mean + std\n",
    "    return summary"
   ]
  },
  {
   "cell_type": "code",
   "execution_count": 19,
   "metadata": {},
   "outputs": [],
   "source": [
    "# function that plots accuracy measure on validation set over epochs\n",
    "\n",
    "def epoch_plot_accuracy(results, name, filename):\n",
    "    tmp = (\n",
    "        results.groupby([ \"Name\", \"Epoch\"])\n",
    "        .agg({\"val_accuracy\": \"mean\"})\n",
    "        .reset_index()\n",
    "        .rename(columns={\"Name\": name})\n",
    "    )\n",
    "    fig, ax = plt.subplots(1, 1, figsize=(8, 3))\n",
    "    sns.lineplot(data=tmp, x=\"Epoch\", y=\"val_accuracy\", hue=name, ax=ax)\n",
    "    ax.set_ylim(0.0, 0.7)\n",
    "    ax.set_xlim(-1, 30)\n",
    "    ax.set_ylabel(\"Accuracy (validation set)\")\n",
    "    ax.set_xticks(ticks=[4, 9, 14, 19, 24, 29], labels=[5, 10, 15, 20, 25, 30])\n",
    "    sns.move_legend(ax, \"lower right\")\n",
    "    plt.savefig(f\"images/{filename}\", bbox_inches=\"tight\", dpi=300)\n",
    "    plt.show()"
   ]
  },
  {
   "cell_type": "markdown",
   "metadata": {},
   "source": [
    "### Experiment 1 - network architectures"
   ]
  },
  {
   "cell_type": "code",
   "execution_count": 20,
   "metadata": {},
   "outputs": [],
   "source": [
    "input_shape = (132, 129)"
   ]
  },
  {
   "cell_type": "code",
   "execution_count": 24,
   "metadata": {},
   "outputs": [
    {
     "name": "stdout",
     "output_type": "stream",
     "text": [
      "Epoch 1/2\n",
      "775/775 [==============================] - 3s 4ms/step - loss: 1.8664 - accuracy: 0.3590 - val_loss: 1.5397 - val_accuracy: 0.4950\n",
      "Epoch 2/2\n",
      "775/775 [==============================] - 3s 3ms/step - loss: 1.5343 - accuracy: 0.4927 - val_loss: 1.3988 - val_accuracy: 0.5582\n",
      "Epoch 1/2\n",
      "775/775 [==============================] - 4s 4ms/step - loss: 1.9310 - accuracy: 0.3400 - val_loss: 1.5775 - val_accuracy: 0.4971\n",
      "Epoch 2/2\n",
      "775/775 [==============================] - 3s 4ms/step - loss: 1.5577 - accuracy: 0.4813 - val_loss: 1.4057 - val_accuracy: 0.5623\n"
     ]
    }
   ],
   "source": [
    "# Model - simple feed-forward neural network\n",
    "\n",
    "def get_model_simple():\n",
    "    model_simple = keras.models.Sequential()\n",
    "    model_simple.add(keras.Input(shape=input_shape))\n",
    "    model_simple.add(keras.layers.Resizing(32, 32))\n",
    "    model_simple.add(keras.layers.BatchNormalization())\n",
    "    model_simple.add(keras.layers.Dense(32, activation='relu')) \n",
    "    model_simple.add(keras.layers.Dropout(0.2))\n",
    "    model_simple.add(keras.layers.Dense(32, activation='relu')) \n",
    "    model_simple.add(keras.layers.Dropout(0.2))\n",
    "    model_simple.add(keras.layers.Dense(32, activation='relu')) \n",
    "    model_simple.add(keras.layers.Dropout(0.2))\n",
    "    model_simple.add(keras.layers.Flatten())\n",
    "    model_simple.add(keras.layers.Dense(12, activation='softmax'))\n",
    "    return model_simple\n",
    "\n",
    "results_simple, models = fit_model(get_model_simple, name=\"Feed-forward\", ds_train=DS_TRAIN_1, ds_valid=DS_VALID_1)\n",
    "results_simple.to_csv(\"results/experiment1_results_simple.csv\", index=False)"
   ]
  },
  {
   "cell_type": "code",
   "execution_count": null,
   "metadata": {},
   "outputs": [],
   "source": [
    "# Model - convolutional neural network\n",
    "\n",
    "def get_model_cnn():\n",
    "    model_cnn = keras.models.Sequential()\n",
    "    model_cnn.add(keras.Input(shape=(132, 129, 1)))\n",
    "    model_cnn.add(keras.layers.Resizing(32, 32))\n",
    "    model_cnn.add(keras.layers.Conv2D(filters=32, kernel_size=(3, 3), activation='relu'))\n",
    "    model_cnn.add(keras.layers.MaxPooling2D(pool_size=(2, 2)))\n",
    "    model_cnn.add(keras.layers.Conv2D(filters=32, kernel_size=(3, 3), activation='relu'))\n",
    "    model_cnn.add(keras.layers.MaxPooling2D(pool_size=(2, 2)))\n",
    "    model_cnn.add(keras.layers.Conv2D(filters=32, kernel_size=(3, 3), activation='relu'))\n",
    "    model_cnn.add(keras.layers.MaxPooling2D(pool_size=(2, 2)))\n",
    "    model_cnn.add(keras.layers.BatchNormalization())\n",
    "    model_cnn.add(keras.layers.Flatten())\n",
    "    model_cnn.add(keras.layers.Dropout(0.2))\n",
    "    model_cnn.add(keras.layers.Dense(32, activation='relu')) \n",
    "    model_cnn.add(keras.layers.Dense(12, activation='softmax'))\n",
    "    return model_cnn\n",
    "\n",
    "results_cnn, models = fit_model(get_model_cnn, name=\"CNN\", ds_train=DS_TRAIN_1, ds_valid=DS_VALID_1)\n",
    "results_cnn.to_csv(\"results/experiment1_results_cnn.csv\", index=False)"
   ]
  },
  {
   "cell_type": "code",
   "execution_count": null,
   "metadata": {},
   "outputs": [],
   "source": [
    "# Model - transformer\n",
    "\n",
    "def get_model_transformer():\n",
    "    model_t = keras.models.Sequential()\n",
    "    model_t.add(keras.Input(shape=input_shape))\n",
    "    model_t.add(Encoder(num_layers=4, d_model=129, num_heads=2, dff=132))\n",
    "    model_t.add(keras.layers.BatchNormalization())\n",
    "    model_t.add(keras.layers.Flatten())\n",
    "    model_t.add(keras.layers.Dropout(0.2))\n",
    "    model_t.add(keras.layers.Dense(32, activation='relu')) \n",
    "    model_t.add(keras.layers.Dense(12, activation='softmax'))\n",
    "    return model_t\n",
    "\n",
    "results_t, models = fit_model(get_model_transformer, name=\"Transformer\", ds_train=DS_TRAIN_1, ds_valid=DS_VALID_1)\n",
    "results_t.to_csv(\"results/experiment1_results_transformer.csv\", index=False)"
   ]
  },
  {
   "cell_type": "code",
   "execution_count": 33,
   "metadata": {},
   "outputs": [],
   "source": [
    "experiment1_results = pd.concat([\n",
    "    pd.read_csv(\"results/experiment1_results_simple.csv\"),\n",
    "    pd.read_csv(\"results/experiment1_results_cnn.csv\"), \n",
    "    pd.read_csv(\"results/experiment1_results_transformer.csv\")\n",
    "])"
   ]
  },
  {
   "cell_type": "code",
   "execution_count": 34,
   "metadata": {},
   "outputs": [
    {
     "data": {
      "text/html": [
       "<div>\n",
       "<style scoped>\n",
       "    .dataframe tbody tr th:only-of-type {\n",
       "        vertical-align: middle;\n",
       "    }\n",
       "\n",
       "    .dataframe tbody tr th {\n",
       "        vertical-align: top;\n",
       "    }\n",
       "\n",
       "    .dataframe thead th {\n",
       "        text-align: right;\n",
       "    }\n",
       "</style>\n",
       "<table border=\"1\" class=\"dataframe\">\n",
       "  <thead>\n",
       "    <tr style=\"text-align: right;\">\n",
       "      <th></th>\n",
       "      <th>loss</th>\n",
       "      <th>accuracy</th>\n",
       "      <th>val_loss</th>\n",
       "      <th>val_accuracy</th>\n",
       "    </tr>\n",
       "    <tr>\n",
       "      <th>Name</th>\n",
       "      <th></th>\n",
       "      <th></th>\n",
       "      <th></th>\n",
       "      <th></th>\n",
       "    </tr>\n",
       "  </thead>\n",
       "  <tbody>\n",
       "    <tr>\n",
       "      <th>CNN</th>\n",
       "      <td>1.205 (0.052)</td>\n",
       "      <td>0.581 (0.014)</td>\n",
       "      <td>1.005 (0.047)</td>\n",
       "      <td>0.654 (0.022)</td>\n",
       "    </tr>\n",
       "    <tr>\n",
       "      <th>Transformer</th>\n",
       "      <td>0.952 (0.089)</td>\n",
       "      <td>0.692 (0.031)</td>\n",
       "      <td>0.819 (0.033)</td>\n",
       "      <td>0.741 (0.010)</td>\n",
       "    </tr>\n",
       "    <tr>\n",
       "      <th>simple</th>\n",
       "      <td>1.951 (0.006)</td>\n",
       "      <td>0.312 (0.003)</td>\n",
       "      <td>1.746 (0.008)</td>\n",
       "      <td>0.418 (0.011)</td>\n",
       "    </tr>\n",
       "  </tbody>\n",
       "</table>\n",
       "</div>"
      ],
      "text/plain": [
       "                      loss       accuracy       val_loss   val_accuracy\n",
       "Name                                                                   \n",
       "CNN          1.205 (0.052)  0.581 (0.014)  1.005 (0.047)  0.654 (0.022)\n",
       "Transformer  0.952 (0.089)  0.692 (0.031)  0.819 (0.033)  0.741 (0.010)\n",
       "simple       1.951 (0.006)  0.312 (0.003)  1.746 (0.008)  0.418 (0.011)"
      ]
     },
     "execution_count": 34,
     "metadata": {},
     "output_type": "execute_result"
    }
   ],
   "source": [
    "summary(experiment1_results)"
   ]
  },
  {
   "cell_type": "code",
   "execution_count": 35,
   "metadata": {},
   "outputs": [
    {
     "data": {
      "image/png": "[encoded data removed]",
      "text/plain": [
       "<Figure size 800x300 with 1 Axes>"
      ]
     },
     "metadata": {},
     "output_type": "display_data"
    }
   ],
   "source": [
    "epoch_plot_accuracy(experiment1_results, \"Architecture\", \"experiment1.png\")"
   ]
  },
  {
   "cell_type": "markdown",
   "metadata": {},
   "source": [
    "### Experiment 2 - hyper-parameters"
   ]
  },
  {
   "cell_type": "markdown",
   "metadata": {},
   "source": [
    "#### Experiment 2.1. - MultiHeadAttention num_heads"
   ]
  },
  {
   "cell_type": "code",
   "execution_count": null,
   "metadata": {},
   "outputs": [],
   "source": [
    "experiment21_results = []\n",
    "\n",
    "for num_heads in [2, 4, 6, 8, 10]:\n",
    "    def get_model_transformer():\n",
    "        model_t = keras.models.Sequential()\n",
    "        model_t.add(keras.Input(shape=input_shape))\n",
    "        model_t.add(Encoder(num_layers=4, d_model=129, num_heads=num_heads, dff=132))\n",
    "        model_t.add(keras.layers.BatchNormalization())\n",
    "        model_t.add(keras.layers.Flatten())\n",
    "        model_t.add(keras.layers.Dropout(0.2))\n",
    "        model_t.add(keras.layers.Dense(32, activation='relu')) \n",
    "        model_t.add(keras.layers.Dense(12, activation='softmax'))\n",
    "        return model_t\n",
    "\n",
    "    results_t, models = fit_model(get_model_transformer, name=\"Transformer\", ds_train=DS_TRAIN_1, ds_valid=DS_VALID_1)\n",
    "    experiment21_results.append(results_t)\n",
    "\n",
    "experiment21_results = pd.concat(experiment21_results)\n",
    "experiment21_results.to_csv(\"results/experiment21_results.csv\", index=False)"
   ]
  },
  {
   "cell_type": "code",
   "execution_count": null,
   "metadata": {},
   "outputs": [],
   "source": [
    "summary(experiment21_results)"
   ]
  },
  {
   "cell_type": "code",
   "execution_count": null,
   "metadata": {},
   "outputs": [],
   "source": [
    "epoch_plot_accuracy(experiment21_results, \"Number of heads\", \"experiment21.png\")"
   ]
  },
  {
   "cell_type": "markdown",
   "metadata": {},
   "source": [
    "#### Experiment 2.2. - number of Encoder layers"
   ]
  },
  {
   "cell_type": "code",
   "execution_count": null,
   "metadata": {},
   "outputs": [],
   "source": [
    "# the best num_heades from Experiment 2.1 is: \n",
    "    # ...\n",
    "\n",
    "experiment22_results = []\n",
    "\n",
    "for num_layers in [2, 4, 6, 8, 10]:\n",
    "    def get_model_transformer():\n",
    "        model_t = keras.models.Sequential()\n",
    "        model_t.add(keras.Input(shape=input_shape))\n",
    "        model_t.add(Encoder(num_layers=num_layers, d_model=129, num_heads=2, dff=132))\n",
    "        model_t.add(keras.layers.BatchNormalization())\n",
    "        model_t.add(keras.layers.Flatten())\n",
    "        model_t.add(keras.layers.Dropout(0.2))\n",
    "        model_t.add(keras.layers.Dense(32, activation='relu')) \n",
    "        model_t.add(keras.layers.Dense(12, activation='softmax'))\n",
    "        return model_t\n",
    "\n",
    "    results_t, models = fit_model(get_model_transformer, name=\"Transformer\", ds_train=DS_TRAIN_1, ds_valid=DS_VALID_1)\n",
    "    experiment22_results.append(results_t)\n",
    "\n",
    "experiment22_results = pd.concat(experiment22_results)\n",
    "experiment22_results.to_csv(\"results/experiment22_results.csv\", index=False)"
   ]
  },
  {
   "cell_type": "code",
   "execution_count": null,
   "metadata": {},
   "outputs": [],
   "source": [
    "summary(experiment22_results)"
   ]
  },
  {
   "cell_type": "code",
   "execution_count": null,
   "metadata": {},
   "outputs": [],
   "source": [
    "epoch_plot_accuracy(experiment21_results, \"Number of Encoder layers\", \"experiment22.png\")"
   ]
  },
  {
   "cell_type": "markdown",
   "metadata": {},
   "source": [
    "### Experiment 3 - \"unknown\" and \"silence\" classes"
   ]
  },
  {
   "cell_type": "code",
   "execution_count": null,
   "metadata": {},
   "outputs": [],
   "source": [
    "# the best num_heades from Experiment 2.1 is: \n",
    "    # ...\n",
    "\n",
    "# the best num_layers from Experiment 2.2 is: \n",
    "    # ..."
   ]
  },
  {
   "cell_type": "code",
   "execution_count": null,
   "metadata": {},
   "outputs": [],
   "source": [
    "def get_model_transformer_a():\n",
    "    model_t = keras.models.Sequential()\n",
    "    model_t.add(keras.Input(shape=input_shape))\n",
    "    model_t.add(Encoder(num_layers=4, d_model=129, num_heads=2, dff=132))\n",
    "    model_t.add(keras.layers.BatchNormalization())\n",
    "    model_t.add(keras.layers.Flatten())\n",
    "    model_t.add(keras.layers.Dropout(0.2))\n",
    "    model_t.add(keras.layers.Dense(32, activation='relu')) \n",
    "    model_t.add(keras.layers.Dense(3, activation='softmax'))\n",
    "    return model_t\n",
    "\n",
    "results_t_a, models_a = fit_model(get_model_transformer_a, name=\"Transformer A\", ds_train=DS_TRAIN_2A, ds_valid=DS_VALID_2A)"
   ]
  },
  {
   "cell_type": "code",
   "execution_count": null,
   "metadata": {},
   "outputs": [],
   "source": [
    "def get_model_transformer_b():\n",
    "    model_t = keras.models.Sequential()\n",
    "    model_t.add(keras.Input(shape=input_shape))\n",
    "    model_t.add(Encoder(num_layers=4, d_model=129, num_heads=2, dff=132))\n",
    "    model_t.add(keras.layers.BatchNormalization())\n",
    "    model_t.add(keras.layers.Flatten())\n",
    "    model_t.add(keras.layers.Dropout(0.2))\n",
    "    model_t.add(keras.layers.Dense(32, activation='relu')) \n",
    "    model_t.add(keras.layers.Dense(10, activation='softmax'))\n",
    "    return model_t\n",
    "\n",
    "results_t_b, models_b = fit_model(get_model_transformer_b, name=\"Transformer B\", ds_train=DS_TRAIN_2B, ds_valid=DS_VALID_2B)"
   ]
  },
  {
   "cell_type": "code",
   "execution_count": null,
   "metadata": {},
   "outputs": [],
   "source": [
    "arrs = []\n",
    "for _, labels in DS_TRAIN:\n",
    "    arrs.append(labels.numpy())\n",
    "labels_true = np.concatenate(arrs)\n",
    "\n",
    "acc_list = []\n",
    "\n",
    "for model_a, model_b in zip(models_a, models_b):\n",
    "    labels_pred_proba_a = model_a.predict(DS_TRAIN)\n",
    "    labels_pred_a = labels_pred_proba_a.argmax(axis=1)\n",
    "    labels_pred_a[labels_pred_a == 1] = 11\n",
    "    labels_pred_a[labels_pred_a == 2] = 12\n",
    "\n",
    "    labels_pred_proba_b = model_b.predict(DS_TRAIN)\n",
    "    labels_pred_b = labels_pred_proba_b.argmax(axis=1)\n",
    "\n",
    "    labels_pred = np.where(labels_pred_a == 0, labels_pred_b, labels_pred_a)\n",
    "\n",
    "    m = keras.metrics.Accuracy()\n",
    "    m.update_state(labels_true, labels_pred)\n",
    "    acc = m.result()\n",
    "    acc_list.append(acc)\n",
    "\n",
    "acc_list = np.array(acc_list)\n",
    "print(acc_list.mean(), acc_list.std())"
   ]
  },
  {
   "cell_type": "code",
   "execution_count": null,
   "metadata": {},
   "outputs": [],
   "source": [
    "arrs = []\n",
    "for _, labels in DS_VALID:\n",
    "    arrs.append(labels.numpy())\n",
    "labels_true = np.concatenate(arrs)\n",
    "\n",
    "acc_list = []\n",
    "\n",
    "for model_a, model_b in zip(models_a, models_b):\n",
    "    labels_pred_proba_a = model_a.predict(DS_VALID)\n",
    "    labels_pred_a = labels_pred_proba_a.argmax(axis=1)\n",
    "    labels_pred_a[labels_pred_a == 1] = 11\n",
    "    labels_pred_a[labels_pred_a == 2] = 12\n",
    "\n",
    "    labels_pred_proba_b = model_b.predict(DS_VALID)\n",
    "    labels_pred_b = labels_pred_proba_b.argmax(axis=1)\n",
    "\n",
    "    labels_pred = np.where(labels_pred_a == 0, labels_pred_b, labels_pred_a)\n",
    "\n",
    "    m = keras.metrics.Accuracy()\n",
    "    m.update_state(labels_true, labels_pred)\n",
    "    acc = m.result()\n",
    "    acc_list.append(acc)\n",
    "\n",
    "acc_list = np.array(acc_list)\n",
    "print(acc_list.mean(), acc_list.std())"
   ]
  }
 ],
 "metadata": {
  "kernelspec": {
   "display_name": "venv",
   "language": "python",
   "name": "python3"
  },
  "language_info": {
   "codemirror_mode": {
    "name": "ipython",
    "version": 3
   },
   "file_extension": ".py",
   "mimetype": "text/x-python",
   "name": "python",
   "nbconvert_exporter": "python",
   "pygments_lexer": "ipython3",
   "version": "3.10.11"
  }
 },
 "nbformat": 4,
 "nbformat_minor": 2
}
